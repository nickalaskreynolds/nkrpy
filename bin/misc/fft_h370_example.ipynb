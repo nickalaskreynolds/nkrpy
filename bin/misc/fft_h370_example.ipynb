{
 "cells": [
  {
   "cell_type": "code",
   "execution_count": 1,
   "metadata": {
    "scrolled": false
   },
   "outputs": [],
   "source": [
    "import numpy as np\n",
    "import matplotlib as mpl\n",
    "import matplotlib.pyplot as plt\n",
    "import astropy.io as ascii\n",
    "from astropy.io import fits\n",
    "from scipy.optimize import curve_fit\n",
    "import os\n",
    "import nkrpy\n",
    "from importlib import reload\n",
    "from nkrpy import atomiclines\n",
    "from nkrpy import constants\n",
    "from nkrpy.functions import *\n",
    "fun = reload(nkrpy.functions)\n",
    "atomiclines = reload(nkrpy.atomiclines)\n",
    "listoflines = atomiclines.call(wtype='nir',bu='microns').aperture().return_lines()"
   ]
  },
  {
   "cell_type": "markdown",
   "metadata": {},
   "source": [
    "# Pretty Plotting"
   ]
  },
  {
   "cell_type": "code",
   "execution_count": 2,
   "metadata": {},
   "outputs": [],
   "source": [
    "def plotting(ax,xmin,xmax,x,y,tempsource,line,count,fitfn=None,start=False):\n",
    "    colours = ['orange','black','blue','green','purple']\n",
    "    colour = colours[count%len(colours)]\n",
    "    y = np.array(y)\n",
    "    x = np.array(x)\n",
    "    origx = x.copy()\n",
    "    origy = y.copy()\n",
    "    x = x[~np.isnan(origy)]\n",
    "    y = y[~np.isnan(origy)]\n",
    "     \n",
    "    if start == False:\n",
    "        temp = []\n",
    "        if count == 0:\n",
    "            for i,j in enumerate(x):\n",
    "                if (j < 1.95) or (j > 2.4):\n",
    "                    temp.append(i)\n",
    "        elif count == 1:\n",
    "            for i,j in enumerate(x):\n",
    "                if ((1.8 < j) or (j < 1.5)):\n",
    "                    temp.append(i)\n",
    "        elif count == 2:\n",
    "            for i,j in enumerate(x):\n",
    "                if (1.33 < j) or (j < 1.17):\n",
    "                    temp.append(i)\n",
    "        elif count == 3:\n",
    "            for i,j in enumerate(x):\n",
    "                if (1.02<j): \n",
    "                    temp.append(i)\n",
    "        elif count == 4:\n",
    "            for i,j in enumerate(x):\n",
    "                if (j < 0.95):\n",
    "                    temp.append(i)\n",
    "        if fitfn:\n",
    "            for i in temp:\n",
    "                y[i] = fitfn(x[i])\n",
    "            y = y/fitfn(x)\n",
    "\n",
    "    ax.plot(x,y,'-',color=colour,label=tempsource[-6:])\n",
    "    #ax.plot(x,linear(x,*params),label='Flatten')\n",
    "    for f in line:\n",
    "        #print(f)\n",
    "        naming = f\n",
    "        for pl,pj in enumerate(line[f]):\n",
    "            val = find_nearest(x,pj)[0]\n",
    "            if (min(x) <= pj <= max(x) ):\n",
    "                kernel = 30\n",
    "                if kernel<=val<len(x)-kernel -1:\n",
    "                    region=y[val-10:val+10] \n",
    "                elif val > 0:\n",
    "                    region=y[val:val+kernel]\n",
    "                elif val<len(x)-1:\n",
    "                    region=y[val-kernel:val]\n",
    "                else:\n",
    "                    region = y[val]\n",
    "                try:\n",
    "                    linepos = max(region)\n",
    "                except ValueError:\n",
    "                    linepos = 2*np.nanmean(y)\n",
    "                ax.text(pj, linepos*1.05, naming,\n",
    "                    verticalalignment='bottom',\n",
    "                    horizontalalignment='center',\n",
    "                    fontsize=15, color='red',rotation='vertical')\n",
    "\n",
    "                ax.plot((pj,pj),(linepos,linepos*1.05),'r-')\n",
    "    return x,y"
   ]
  },
  {
   "cell_type": "code",
   "execution_count": 3,
   "metadata": {},
   "outputs": [],
   "source": [
    "def formatter(ax1,ax2=None,xlim='',xlabel='',ylabel='',d=0.015):\n",
    "    if ax1 and ax2:\n",
    "        xmin1,xmax1,xmin2,xmax2 = [float(x) for x in xlim.split(',')]\n",
    "        ax1.set_xlim(xmin1,xmax1)\n",
    "        ax2.set_xlim(xmin2,xmax2)\n",
    "        \n",
    "        ax1.spines['right'].set_visible(False)\n",
    "        ax2.spines['left'].set_visible(False)\n",
    "        ax1.tick_params(labelright='off')\n",
    "        ax2.yaxis.tick_right()\n",
    "        ax1.set_ylabel(ylabel)\n",
    "        label = ax1.set_xlabel(xlabel)\n",
    "        ax1.xaxis.set_label_coords(1., -0.05)\n",
    "        # d= how big to make the diagonal lines in axes coordinates\n",
    "        # arguments to pass plot, just so we don't keep repeating them\n",
    "        kwargs = dict(transform=ax1.transAxes, color='k', clip_on=False)\n",
    "        ax1.plot((1-d,1+d), (-d,+d), **kwargs)\n",
    "        ax1.plot((1-d,1+d),(1-d,1+d), **kwargs)\n",
    "        ax2.plot((xmin2,xmin2),(-100,100),color='black',linewidth=5)\n",
    "\n",
    "        kwargs.update(transform=ax2.transAxes)  # switch to the bottom axes\n",
    "        ax2.plot((-d,+d), (1-d,1+d), **kwargs)\n",
    "        ax2.plot((-d,+d), (-d,+d), **kwargs)\n",
    "\n",
    "        plt.subplots_adjust(wspace=0, hspace=0)\n",
    "        ax1.legend()\n",
    "        ax2.legend()\n",
    "    else:\n",
    "        plt.subplots_adjust(wspace=0, hspace=0)\n",
    "        ax1.legend()"
   ]
  },
  {
   "cell_type": "code",
   "execution_count": 4,
   "metadata": {},
   "outputs": [],
   "source": [
    "def fft(lam,flux):\n",
    "    F        = np.fft.rfft(flux)\n",
    "    #F         = np.fft.fftshift( F1 )\n",
    "    ps        = np.abs(F)**2\n",
    "    amps      = np.abs(F)\n",
    "    wave_step = np.abs(lam[0] - lam[-1])/len(lam)\n",
    "    wavenum   = np.fft.rfftfreq(flux.size, wave_step)\n",
    "    idx       = np.argsort(wavenum)\n",
    "\n",
    "    return wavenum[idx],lam[idx], amps[idx], ps[idx],F[idx]\n",
    "\n",
    "def cut_fft(time,signal,cut,inverse=False):\n",
    "    W = np.fft.rfftfreq(signal.size, d=np.abs(time[-1]-time[0])/len(time))\n",
    "    f_signal = np.fft.rfft(signal)     \n",
    "\n",
    "    # If our original signal time was in seconds, this is now in Hz    \n",
    "    cut_f_signal = f_signal.copy()\n",
    "    if not inverse:\n",
    "        cut_f_signal[np.where(W<cut)] = 0\n",
    "    else:\n",
    "        cut_f_signal[np.where(W>cut)] = 0\n",
    "    cutsig = np.fft.irfft(cut_f_signal)\n",
    "    #print(W.shape,f_signal.shape,cutsig.shape)\n",
    "    if cutsig.shape > time.shape:\n",
    "        re = time.shape[0]\n",
    "        cutsig = cutsig[:re]\n",
    "    elif cutsig.shape < time.shape:\n",
    "        re = cutsig.shape[0]\n",
    "        #print(re)\n",
    "        time = time[:re]\n",
    "    \n",
    "    return time,np.abs(cutsig)"
   ]
  },
  {
   "cell_type": "code",
   "execution_count": 5,
   "metadata": {},
   "outputs": [],
   "source": [
    "source = 'HOPS-370'\n",
    "listoffiles='HOPS-370.2.tellcor.fits'\n",
    "dire = 'combined'\n",
    "count = 0\n",
    "start=True\n",
    "orderlim=7\n",
    "xmin1=0.95\n",
    "xmax1=2.0\n",
    "xmin2=1.95\n",
    "xmax2=2.5\n",
    "ymin = 0\n",
    "ymax = 2.E-14"
   ]
  },
  {
   "cell_type": "code",
   "execution_count": 6,
   "metadata": {
    "scrolled": false
   },
   "outputs": [
    {
     "name": "stdout",
     "output_type": "stream",
     "text": [
      "(3, 3, 2048)\n"
     ]
    }
   ],
   "source": [
    "os.system('mkdir ' + dire)\n",
    "# make sure you add statement for naming\n",
    "f,(ax1,ax2) = plt.subplots(1,2,figsize=[16,9],sharey=True,facecolor='w')\n",
    "plt.text(1., 1.02, source,\n",
    "         horizontalalignment='center',\n",
    "         fontsize=20,\n",
    "         transform = ax1.transAxes)\n",
    "hdulist = fits.open(listoffiles)\n",
    "print(hdulist[0].data.shape)\n",
    "for j in range(len(hdulist[0].data[:,0,:])):   \n",
    "    if j != orderlim:\n",
    "        lam = hdulist[0].data[j,0,:]\n",
    "        flux = hdulist[0].data[j,1,:]\n",
    "        if j > 0:\n",
    "            plotting(ax1,xmin1,xmax1,lam,flux,source+\"_order\"+str(j+3),\\\n",
    "                     line=listoflines,count=j,start=start)\n",
    "        else:\n",
    "            plotting(ax2,xmin2,xmax2,lam,flux,source+\"_order\"+str(j+3),\\\n",
    "                     line=listoflines,count=j,start=start)\n",
    "    count +=1\n",
    "    \n",
    "ax2.plot((xmin2,xmin2),(-100,100),color='black')\n",
    "           \n",
    "formatter(ax1,ax2,xlim=\"{},{},{},{}\".format(xmin1,xmax1,xmin2,xmax2),\\\n",
    "          xlabel=r'Lambda ($\\mu$m)',\\\n",
    "          ylabel=r\"Flux (ergs s$^{-1}$ cm$^{-2}$ A$^{-1}$)\")\n",
    "plt.ylim(ymin,ymax)\n",
    "plt.draw()\n",
    "plt.savefig(dire+'/'+source+'_combined.pdf',dpi=100)\n",
    "plt.close()"
   ]
  },
  {
   "cell_type": "code",
   "execution_count": 7,
   "metadata": {},
   "outputs": [],
   "source": [
    "f,(ax1,ax2) = plt.subplots(1,2,sharey=True, figsize=[16,12],facecolor='w')\n",
    "plt.text(1., 1.02, source,\n",
    "         horizontalalignment='center',\n",
    "         fontsize=20,\n",
    "         transform = ax1.transAxes)\n",
    "raw={}\n",
    "start=True\n",
    "hdulist = fits.open(listoffiles)\n",
    "for j in range(len(hdulist[0].data[:,0,:])):   \n",
    "    lam = hdulist[0].data[j,0,:]\n",
    "    flux = hdulist[0].data[j,1,:]\n",
    "    temp = '{}o'.format(j)\n",
    "    raw[temp] = [lam,flux]\n",
    "    if j > 0:\n",
    "        plotting(ax1,xmin1,xmax1,lam,flux,\\\n",
    "                source+\"_order\"+str(j+3),listoflines,count=j,start=start)\n",
    "    else:\n",
    "        plotting(ax2,xmin2,xmax2,lam,flux,\\\n",
    "                source+\"_order\"+str(j+3),listoflines,count=j,start=start)            \n",
    "\n",
    "ax2.plot((xmin2,xmin2),(-100,100),color='black')\n",
    "formatter(ax1,ax2,xlim=\"{},{},{},{}\".format(xmin1,xmax1,xmin2,xmax2),\\\n",
    "          xlabel=r'Lambda ($\\mu$m)',\\\n",
    "          ylabel=r\"Flux (ergs s$^{-1}$ cm$^{-2}$ A$^{-1}$)\")\n",
    "plt.ylim(ymin,ymax)\n",
    "plt.draw()\n",
    "plt.savefig(dire+'/'+source+'_combined.raw.pdf',dpi=1000)\n",
    "plt.close()"
   ]
  },
  {
   "cell_type": "markdown",
   "metadata": {},
   "source": [
    "# FFT"
   ]
  },
  {
   "cell_type": "code",
   "execution_count": 18,
   "metadata": {},
   "outputs": [
    {
     "name": "stderr",
     "output_type": "stream",
     "text": [
      "/home1/ryle/reynolds/programs/ryle-linuxbrew/opt/python/lib/python3.6/site-packages/ipykernel_launcher.py:7: RuntimeWarning: invalid value encountered in greater\n",
      "  import sys\n",
      "/home1/ryle/reynolds/programs/ryle-linuxbrew/opt/python/lib/python3.6/site-packages/numpy/core/numeric.py:492: ComplexWarning: Casting complex values to real discards the imaginary part\n",
      "  return array(a, dtype, copy=False, order=order)\n"
     ]
    },
    {
     "name": "stdout",
     "output_type": "stream",
     "text": [
      "(array([   1,    2,    3, ..., 2045, 2046, 2047]),) []\n"
     ]
    },
    {
     "name": "stderr",
     "output_type": "stream",
     "text": [
      "/home1/ryle/reynolds/programs/ryle-linuxbrew/opt/python/lib/python3.6/site-packages/ipykernel_launcher.py:27: RuntimeWarning: invalid value encountered in greater\n"
     ]
    },
    {
     "ename": "TypeError",
     "evalue": "expected non-empty vector for x",
     "output_type": "error",
     "traceback": [
      "\u001b[0;31m---------------------------------------------------------------------------\u001b[0m",
      "\u001b[0;31mTypeError\u001b[0m                                 Traceback (most recent call last)",
      "\u001b[0;32m<ipython-input-18-0e0a4e970fcf>\u001b[0m in \u001b[0;36m<module>\u001b[0;34m()\u001b[0m\n\u001b[1;32m     38\u001b[0m     \u001b[0mcont\u001b[0m \u001b[0;34m=\u001b[0m \u001b[0mflux\u001b[0m\u001b[0;34m\u001b[0m\u001b[0m\n\u001b[1;32m     39\u001b[0m     \u001b[0mprint\u001b[0m\u001b[0;34m(\u001b[0m\u001b[0mmask\u001b[0m\u001b[0;34m,\u001b[0m\u001b[0mnmask\u001b[0m\u001b[0;34m)\u001b[0m\u001b[0;34m\u001b[0m\u001b[0m\n\u001b[0;32m---> 40\u001b[0;31m     \u001b[0mfit\u001b[0m \u001b[0;34m=\u001b[0m \u001b[0mnp\u001b[0m\u001b[0;34m.\u001b[0m\u001b[0mpolyfit\u001b[0m\u001b[0;34m(\u001b[0m\u001b[0mlam\u001b[0m\u001b[0;34m[\u001b[0m\u001b[0mnmask\u001b[0m\u001b[0;34m]\u001b[0m\u001b[0;34m,\u001b[0m\u001b[0mcont\u001b[0m\u001b[0;34m[\u001b[0m\u001b[0mnmask\u001b[0m\u001b[0;34m]\u001b[0m\u001b[0;34m,\u001b[0m\u001b[0;36m2\u001b[0m\u001b[0;34m)\u001b[0m\u001b[0;34m\u001b[0m\u001b[0m\n\u001b[0m\u001b[1;32m     41\u001b[0m     \u001b[0mfit_fn\u001b[0m \u001b[0;34m=\u001b[0m \u001b[0mnp\u001b[0m\u001b[0;34m.\u001b[0m\u001b[0mpoly1d\u001b[0m\u001b[0;34m(\u001b[0m\u001b[0mfit\u001b[0m\u001b[0;34m)\u001b[0m\u001b[0;34m\u001b[0m\u001b[0m\n\u001b[1;32m     42\u001b[0m     \u001b[0max3\u001b[0m\u001b[0;34m.\u001b[0m\u001b[0mplot\u001b[0m\u001b[0;34m(\u001b[0m\u001b[0mlam\u001b[0m\u001b[0;34m,\u001b[0m\u001b[0mfit_fn\u001b[0m\u001b[0;34m(\u001b[0m\u001b[0mlam\u001b[0m\u001b[0;34m)\u001b[0m\u001b[0;34m,\u001b[0m\u001b[0;34m'r-'\u001b[0m\u001b[0;34m)\u001b[0m\u001b[0;34m\u001b[0m\u001b[0m\n",
      "\u001b[0;32m/home1/ryle/reynolds/programs/ryle-linuxbrew/opt/python/lib/python3.6/site-packages/numpy/lib/polynomial.py\u001b[0m in \u001b[0;36mpolyfit\u001b[0;34m(x, y, deg, rcond, full, w, cov)\u001b[0m\n\u001b[1;32m    553\u001b[0m         \u001b[0;32mraise\u001b[0m \u001b[0mTypeError\u001b[0m\u001b[0;34m(\u001b[0m\u001b[0;34m\"expected 1D vector for x\"\u001b[0m\u001b[0;34m)\u001b[0m\u001b[0;34m\u001b[0m\u001b[0m\n\u001b[1;32m    554\u001b[0m     \u001b[0;32mif\u001b[0m \u001b[0mx\u001b[0m\u001b[0;34m.\u001b[0m\u001b[0msize\u001b[0m \u001b[0;34m==\u001b[0m \u001b[0;36m0\u001b[0m\u001b[0;34m:\u001b[0m\u001b[0;34m\u001b[0m\u001b[0m\n\u001b[0;32m--> 555\u001b[0;31m         \u001b[0;32mraise\u001b[0m \u001b[0mTypeError\u001b[0m\u001b[0;34m(\u001b[0m\u001b[0;34m\"expected non-empty vector for x\"\u001b[0m\u001b[0;34m)\u001b[0m\u001b[0;34m\u001b[0m\u001b[0m\n\u001b[0m\u001b[1;32m    556\u001b[0m     \u001b[0;32mif\u001b[0m \u001b[0my\u001b[0m\u001b[0;34m.\u001b[0m\u001b[0mndim\u001b[0m \u001b[0;34m<\u001b[0m \u001b[0;36m1\u001b[0m \u001b[0;32mor\u001b[0m \u001b[0my\u001b[0m\u001b[0;34m.\u001b[0m\u001b[0mndim\u001b[0m \u001b[0;34m>\u001b[0m \u001b[0;36m2\u001b[0m\u001b[0;34m:\u001b[0m\u001b[0;34m\u001b[0m\u001b[0m\n\u001b[1;32m    557\u001b[0m         \u001b[0;32mraise\u001b[0m \u001b[0mTypeError\u001b[0m\u001b[0;34m(\u001b[0m\u001b[0;34m\"expected 1D or 2D array for y\"\u001b[0m\u001b[0;34m)\u001b[0m\u001b[0;34m\u001b[0m\u001b[0m\n",
      "\u001b[0;31mTypeError\u001b[0m: expected non-empty vector for x"
     ]
    },
    {
     "data": {
      "image/png": "[encoded data removed]",
      "text/plain": [
       "<matplotlib.figure.Figure at 0x7f1ab23478d0>"
      ]
     },
     "metadata": {},
     "output_type": "display_data"
    }
   ],
   "source": [
    "start=True\n",
    "hdulist = fits.open(listoffiles)\n",
    "for j in range(len(hdulist[0].data[:,0,:])):\n",
    "    f,(ax1,ax2,ax3) = plt.subplots(1,3, figsize=[20,10],facecolor='w')\n",
    "    lam = hdulist[0].data[j,0,:]\n",
    "    flux = hdulist[0].data[j,1,:]\n",
    "    mask =  np.where(flux > 0)\n",
    "    lam = lam[mask]\n",
    "    flux = flux[mask]\n",
    "    i,x,k,y,F = fft(lam,flux)\n",
    "    ax1.plot(i,F)\n",
    "    ax1.set_title('FFT')\n",
    "    ax2.plot(i,y)\n",
    "    ax2.set_title('Power Spectrum')\n",
    "    ax3.plot(i,k)\n",
    "    ax3.set_title('Amplitude Spectrum')\n",
    "    plt.draw()\n",
    "    plt.tight_layout()\n",
    "    plt.savefig(dire+'/'+source+'_order'+str(j+3)+'.fft.pdf',dpi=1000)\n",
    "    plt.close()\n",
    "\n",
    "continuum = {}\n",
    "cuts=[1500,1500,200]\n",
    "for j in range(len(hdulist[0].data[:,0,:])):    \n",
    "    lam = hdulist[0].data[j,0,:]\n",
    "    flux = hdulist[0].data[j,1,:]\n",
    "    mask =  np.where(flux > 0)\n",
    "    lam = lam[mask]\n",
    "    flux = flux[mask]\n",
    "    nlam,nflux = cut_fft(lam,flux, cuts[j],inverse=False)\n",
    "    f,(ax1,ax2,ax3) = plt.subplots(3,1, figsize=[20,20],facecolor='w')\n",
    "    ax1.set_title('FT spectra')\n",
    "    ax1.plot(nlam,nflux)\n",
    "    ax2.set_title('Raw Spectrum')\n",
    "    ax2.plot(lam,flux)\n",
    "    nmask = findLength(nlam)[-1]\n",
    "    ax3.set_title('New Spectrum')\n",
    "    cont = flux\n",
    "    print(mask,nmask)\n",
    "    fit = np.polyfit(lam[nmask],cont[nmask],2)\n",
    "    fit_fn = np.poly1d(fit)\n",
    "    ax3.plot(lam,fit_fn(lam),'r-')\n",
    "    ax3.plot(lam,flux)\n",
    "    temp ='{}o'.format(j)\n",
    "    continuum[temp] = fit_fn\n",
    "    ax3.plot([lam[nmask][0],lam[nmask][0]],[0,np.max(flux)],'r-')\n",
    "    ax3.plot([lam[nmask][-1],lam[nmask][-1]],[0,np.max(flux)],'r-')\n",
    "    ax3.set_ylim(ymin,ymax)\n",
    "    plt.draw()\n",
    "    plt.tight_layout()\n",
    "    plt.savefig(dire+'/'+source+'_order'+str(j+3)+'.cut.pdf',dpi=1000)\n",
    "    plt.close()\n",
    "    count +=1"
   ]
  },
  {
   "cell_type": "markdown",
   "metadata": {},
   "source": [
    "# Flatten"
   ]
  },
  {
   "cell_type": "code",
   "execution_count": null,
   "metadata": {},
   "outputs": [],
   "source": [
    "xmin1 = 0.95\n",
    "xmax1=1.8\n",
    "xmin2 = 2.\n",
    "xmax2=2.4\n",
    "ymin = -0.5\n",
    "start=False\n",
    "ymax = 5\n",
    "flat = {}"
   ]
  },
  {
   "cell_type": "code",
   "execution_count": null,
   "metadata": {},
   "outputs": [],
   "source": [
    "# make sure you add statement for naming\n",
    "plt.clf()\n",
    "f,(ax1,ax2) = plt.subplots(1,2,sharey=True, figsize=[16,12],facecolor='w')\n",
    "plt.text(1., 1.02, source,\n",
    "         horizontalalignment='center',\n",
    "         fontsize=15,\n",
    "         transform = ax1.transAxes)\n",
    "\n",
    "hdulist = fits.open(listoffiles)\n",
    "for j in range(len(hdulist[0].data[:,0,:])):\n",
    "    lam = hdulist[0].data[j,0,:]\n",
    "    flux = hdulist[0].data[j,1,:]\n",
    "    temp = '{}o'.format(j)\n",
    "    flatten = continuum[temp]\n",
    "    if j > 0:\n",
    "        del1,del2 = plotting(ax1,xmin1,xmax1,lam,\\\n",
    "                flux,source+\"_order\"+str(j+3),listoflines,count=j,\\\n",
    "                              fitfn=flatten,start=start)\n",
    "    else:\n",
    "        del1,del2 = plotting(ax2,xmin2,xmax2,lam,\\\n",
    "                flux,source+\"_order\"+str(j+3),listoflines,count=j,\\\n",
    "                              fitfn=flatten,start=start)\n",
    "    flat[temp] = [del1,del2]\n",
    "plt.ylim(ymin,ymax)\n",
    "plt.draw()\n",
    "plt.savefig(dire+'/'+source+'_combined.flat.pdf',dpi=1000)\n",
    "plt.close()"
   ]
  },
  {
   "cell_type": "markdown",
   "metadata": {},
   "source": [
    "# Binning"
   ]
  },
  {
   "cell_type": "code",
   "execution_count": null,
   "metadata": {},
   "outputs": [],
   "source": [
    "plt.clf()\n",
    "f,(ax1,ax2) = plt.subplots(1,2,sharey=True, figsize=[16,12],facecolor='w')\n",
    "plt.text(1., 1.02, source,\n",
    "         horizontalalignment='center',\n",
    "         fontsize=25,\n",
    "         transform = ax1.transAxes)\n",
    "count = 0\n",
    "\n",
    "ax1.set_xlim(xmin1,xmax1)\n",
    "ax2.set_xlim(xmin2,xmax2)\n",
    "ax1.spines['right'].set_visible(False)\n",
    "ax2.spines['left'].set_visible(False)\n",
    "ax1.tick_params(labelright='off', labelsize = 25)\n",
    "ax2.tick_params(labelsize = 25)\n",
    "ax2.yaxis.tick_right()\n",
    "ax1.set_ylabel(r\"Relative Flux\", fontsize = 20)\n",
    "label = ax1.set_xlabel(r'Lambda ($\\mu$m)', fontsize = 20)\n",
    "ax1.xaxis.set_label_coords(1., -0.05)\n",
    "plt.ylim(ymin,ymax)\n",
    "hdulist = fits.open(listoffiles)\n",
    "for j in range(len(hdulist[0].data[:,0,:])):   \n",
    "    if j != orderlim:\n",
    "        lam = binning(hdulist[0].data[j,0,:],5)\n",
    "        flux = binning(hdulist[0].data[j,1,:],5)\n",
    "        if j > 0:\n",
    "            plotting2(ax1,xmin1,xmax1,lam,flux,source+\"_order\"+str(j+3),listoflines,count)\n",
    "        else:\n",
    "            plotting2(ax2,xmin2,xmax2,lam,flux,source+\"_order\"+str(j+3),listoflines,count)\n",
    "    count +=1\n",
    "        \n",
    "d = .015 # how big to make the diagonal lines in axes coordinates\n",
    "# arguments to pass plot, just so we don't keep repeating them\n",
    "kwargs = dict(transform=ax1.transAxes, color='k', clip_on=False)\n",
    "ax1.plot((1-d,1+d), (-d,+d), **kwargs)\n",
    "ax1.plot((1-d,1+d),(1-d,1+d), **kwargs)\n",
    "\n",
    "kwargs.update(transform=ax2.transAxes)  # switch to the bottom axes\n",
    "ax2.plot((-d,+d), (1-d,1+d), **kwargs)\n",
    "ax2.plot((-d,+d), (-d,+d), **kwargs)\n",
    "ax2.plot((xmin2,xmin2),(-100,100),color='black',linewidth=5)\n",
    "\n",
    "plt.subplots_adjust(wspace=0, hspace=0)\n",
    "plt.draw()\n",
    "ax1.legend(prop={'size': 15})\n",
    "ax2.legend(prop={'size': 15})\n",
    "plt.savefig(dire+'/'+source+'_combined.flat.binned.pdf',dpi=1000)\n",
    "plt.close()"
   ]
  },
  {
   "cell_type": "code",
   "execution_count": null,
   "metadata": {},
   "outputs": [],
   "source": [
    "import pickle\n",
    "with open('rawdata.pickle','wb') as f:\n",
    "    pickle.dump(raw,f)\n",
    "with open('flatdata.pickle','wb') as f:\n",
    "    pickle.dump(flat,f)"
   ]
  },
  {
   "cell_type": "code",
   "execution_count": null,
   "metadata": {},
   "outputs": [],
   "source": []
  }
 ],
 "metadata": {
  "kernelspec": {
   "display_name": "Python 3",
   "language": "python",
   "name": "python3"
  },
  "language_info": {
   "codemirror_mode": {
    "name": "ipython",
    "version": 3
   },
   "file_extension": ".py",
   "mimetype": "text/x-python",
   "name": "python",
   "nbconvert_exporter": "python",
   "pygments_lexer": "ipython3",
   "version": "3.6.5"
  }
 },
 "nbformat": 4,
 "nbformat_minor": 2
}
