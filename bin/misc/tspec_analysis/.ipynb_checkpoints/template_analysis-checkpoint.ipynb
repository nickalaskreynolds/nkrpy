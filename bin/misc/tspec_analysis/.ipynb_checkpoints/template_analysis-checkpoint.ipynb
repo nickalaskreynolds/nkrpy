{
 "cells": [
  {
   "cell_type": "markdown",
   "metadata": {},
   "source": [
    "# SETUP"
   ]
  },
  {
   "cell_type": "code",
   "execution_count": null,
   "metadata": {},
   "outputs": [],
   "source": [
    "files   = ['']\n",
    "sources = ['']"
   ]
  },
  {
   "cell_type": "markdown",
   "metadata": {},
   "source": [
    "# MODULES"
   ]
  },
  {
   "cell_type": "code",
   "execution_count": 56,
   "metadata": {},
   "outputs": [],
   "source": [
    "# Standard\n",
    "import os\n",
    "\n",
    "# non standard\n",
    "import pickle\n",
    "import numpy as np\n",
    "import matplotlib as mpl\n",
    "import matplotlib.pyplot as plt\n",
    "import astropy.io as ascii\n",
    "from astropy.io import fits\n",
    "from scipy.optimize import curve_fit\n",
    "from importlib import reload\n",
    "\n",
    "# custom\n",
    "import nkrpy\n",
    "from nkrpy import atomiclines\n",
    "from nkrpy import config\n",
    "from nkrpy import constants\n",
    "from nkrpy.functions import *\n",
    "\n",
    "atomiclines = reload(nkrpy.atomiclines)\n",
    "listoflines = atomiclines.call(wtype='nir',bu='microns').aperture().return_lines()"
   ]
  },
  {
   "cell_type": "code",
   "execution_count": null,
   "metadata": {},
   "outputs": [],
   "source": [
    "def plotting(ax,xmin,xmax,x,y,count,line,start=False):\n",
    "    colours = ['orange','black','blue','red',\\\n",
    "              'green','purple','grey']\n",
    "    colour = colours[count%len(colours)]\n",
    "    y = np.array(y)\n",
    "    x = np.array(x)\n",
    "    origx = x.copy()\n",
    "    origy = y.copy()\n",
    "    x = x[~np.isnan(origy)]\n",
    "    y = y[~np.isnan(origy)]\n",
    "     \n",
    "    print(\"Count: {},Before: {},{}\".format(count,x.shape,y.shape))\n",
    "    if start == False:\n",
    "        temp = []\n",
    "        # initially conservative\n",
    "        if count == 0:\n",
    "            for i,j in enumerate(x):\n",
    "                if (j < 1.7):\n",
    "                    temp.append(i)\n",
    "        elif count == 1:\n",
    "            for i,j in enumerate(x):\n",
    "                if ((1.75 < j) or (j < 1.5)):\n",
    "                    temp.append(i)\n",
    "        elif count == 2:\n",
    "            for i,j in enumerate(x):\n",
    "                if (1.33 < j) or (j < 1.17):\n",
    "                    temp.append(i)\n",
    "        elif count == 3:\n",
    "            for i,j in enumerate(x):\n",
    "                if ((j < 1.05) or ((1.11<j)) and (j<1.17)): \n",
    "                    temp.append(i)\n",
    "        elif count == 4:\n",
    "            for i,j in enumerate(x):\n",
    "                if (j < 0.95):\n",
    "                    temp.append(i)\n",
    "        temp = np.array(temp)\n",
    "        temp.sort()\n",
    "        tempx = np.delete(x,temp)\n",
    "        tempy = np.delete(y,temp)\n",
    "        expected = [1.,1.]\n",
    "        params,cov = curve_fit(linear,tempx,tempy,expected)\n",
    "        if len(temp) > 0:\n",
    "            y[temp[0]] = linear(x[temp[0]],*params)\n",
    "            y[temp[len(temp)-1]] = linear(x[temp[len(temp)-1]],*params)\n",
    "            x = np.delete(x,temp[1:len(temp)-1])\n",
    "            y = np.delete(y,temp[1:len(temp)-1])\n",
    "\n",
    "        print(\"After: {},{}\".format(x.shape,y.shape))\n",
    "        if x.shape[0] == 0:\n",
    "            x = origx\n",
    "            y = origy\n",
    "        count +=1\n",
    "    ax.plot(x,y,'-',color=colour,label='order {}'.format(count))\n",
    "    for f in line:\n",
    "        naming = f\n",
    "        for pl,pj in enumerate(line[f]):\n",
    "            if (xmin <= pj <= xmax )and (min(x) <= pj <= max(x) ):\n",
    "                val = find_nearest(x,pj)[0]\n",
    "                reg = 15 # region element won't duplicate lines within\n",
    "                         # +- reg around lines\n",
    "                if 10<=val<len(x)-11: # line isn't at edge\n",
    "                    region=y[val-10:val+10] \n",
    "                elif val > 10:# right edge\n",
    "                    region=y[val-10:val]\n",
    "                elif val<len(x)-11:# left edge\n",
    "                    region=y[val:val+10]\n",
    "                else:\n",
    "                    region = y[val]\n",
    "                try:\n",
    "                    linepos = max(region)\n",
    "                except ValueError:\n",
    "                    linepos = 5*np.nanmean(x)\n",
    "                ax.text(pj, linepos*1.05, naming,\n",
    "                    verticalalignment='bottom',\n",
    "                    horizontalalignment='center',\n",
    "                    fontsize=10, color='red',rotation='vertical')\n",
    "\n",
    "                    ax.plot((pj,pj),(linepos,linepos*1.05),'r-')\n",
    "    return x,y"
   ]
  },
  {
   "cell_type": "code",
   "execution_count": null,
   "metadata": {},
   "outputs": [],
   "source": []
  },
  {
   "cell_type": "code",
   "execution_count": null,
   "metadata": {},
   "outputs": [],
   "source": []
  },
  {
   "cell_type": "code",
   "execution_count": null,
   "metadata": {},
   "outputs": [],
   "source": []
  }
 ],
 "metadata": {
  "kernelspec": {
   "display_name": "Python 3",
   "language": "python",
   "name": "python3"
  },
  "language_info": {
   "codemirror_mode": {
    "name": "ipython",
    "version": 3
   },
   "file_extension": ".py",
   "mimetype": "text/x-python",
   "name": "python",
   "nbconvert_exporter": "python",
   "pygments_lexer": "ipython3",
   "version": "3.6.5"
  }
 },
 "nbformat": 4,
 "nbformat_minor": 2
}
